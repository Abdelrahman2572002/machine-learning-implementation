{
  "cells": [
    {
      "cell_type": "code",
      "execution_count": null,
      "metadata": {
        "id": "1SmUo3QWNdPo"
      },
      "outputs": [],
      "source": [
        "import numpy as np\n",
        "import pandas as pd\n",
        "import random\n",
        "from matplotlib import pyplot as plt"
      ]
    },
    {
      "cell_type": "markdown",
      "metadata": {
        "id": "nYrWckka_UCx"
      },
      "source": [
        "# Read and standardize the data"
      ]
    },
    {
      "cell_type": "code",
      "execution_count": null,
      "metadata": {
        "id": "VKo1aLnmS6-Z"
      },
      "outputs": [],
      "source": [
        "from keras.datasets import mnist\n",
        "\n",
        "(x_train, y_train), (x_test, y_test) = mnist.load_data()\n",
        "# flatten the training data\n",
        "x_train = x_train.reshape(x_train.shape[0], -1)\n",
        "x_test = x_test.reshape(x_test.shape[0], -1)\n",
        "# normalization\n",
        "x_train = x_train / 255.0\n",
        "x_test = x_test / 255.0"
      ]
    },
    {
      "cell_type": "code",
      "execution_count": null,
      "metadata": {
        "id": "Uk1bwLLG9qP2",
        "colab": {
          "base_uri": "https://localhost:8080/"
        },
        "outputId": "de6da5bb-aab7-4601-befe-23e4bad6e852"
      },
      "outputs": [
        {
          "output_type": "stream",
          "name": "stdout",
          "text": [
            "(60000,) (60000, 784)\n"
          ]
        }
      ],
      "source": [
        "print(y_train.shape , x_train.shape)"
      ]
    },
    {
      "cell_type": "markdown",
      "metadata": {
        "id": "SEBYrK-QkzMm"
      },
      "source": [
        "# Choosing 0 , 1 classes"
      ]
    },
    {
      "cell_type": "code",
      "execution_count": null,
      "metadata": {
        "id": "6Y6eWXmv9CS9",
        "colab": {
          "base_uri": "https://localhost:8080/"
        },
        "outputId": "f53f8c40-8790-4545-c244-1ec6fed39d90"
      },
      "outputs": [
        {
          "output_type": "stream",
          "name": "stdout",
          "text": [
            "(2115, 784) (2115,)\n"
          ]
        }
      ],
      "source": [
        "xx = []\n",
        "yy = []\n",
        "xx_test = []\n",
        "yy_test = []\n",
        "for i in range(x_train.shape[0]):\n",
        "    if (y_train[i] < 2):\n",
        "        xx.append(x_train[i])\n",
        "        yy.append(y_train[i])\n",
        "for i in range(x_test.shape[0]):\n",
        "    if (y_test[i] < 2):\n",
        "        xx_test.append(x_test[i])\n",
        "        yy_test.append(y_test[i])\n",
        "x_train = np.array(xx)\n",
        "y_train = np.array(yy)\n",
        "x_test = np.array(xx_test)\n",
        "y_test = np.array(yy_test)\n",
        "print(x_test.shape, y_test.shape)"
      ]
    },
    {
      "cell_type": "code",
      "execution_count": null,
      "metadata": {
        "id": "bYYgwstL-bhU"
      },
      "outputs": [],
      "source": [
        "# Shuffle !!\n",
        "# tmp = np.arange(x_train.shape[0])\n",
        "# np.random.shuffle(tmp)\n",
        "# nwx = []\n",
        "# nwy = []\n",
        "# for i in range(y_train.shape[0]):\n",
        "#   nwx.append( x_train[tmp[i]] )\n",
        "#   nwy.append( y_train[tmp[i]] )\n",
        "# x_train = np.array(nwx)\n",
        "# y_train = np.array(nwy)\n",
        "# print(x_train.shape , y_train.shape)"
      ]
    },
    {
      "cell_type": "markdown",
      "metadata": {
        "id": "p7AfM4RNkeRy"
      },
      "source": [
        "# Sigmoid function"
      ]
    },
    {
      "cell_type": "code",
      "execution_count": null,
      "metadata": {
        "id": "enNoXGe-kGga"
      },
      "outputs": [],
      "source": [
        "def sigmoid(z):\n",
        "    return (1 / (1 + (np.exp(-z))))"
      ]
    },
    {
      "cell_type": "markdown",
      "metadata": {
        "id": "Ze_zoHIBka8w"
      },
      "source": [
        "# Sigmoid cost function"
      ]
    },
    {
      "cell_type": "code",
      "execution_count": null,
      "metadata": {
        "id": "ehQj7_BrkHNe"
      },
      "outputs": [],
      "source": [
        "def calculate_cost(y, y_pred):\n",
        "    return np.mean((-y * np.log(y_pred)) - ((1 - y) * np.log(1 - y_pred)))"
      ]
    },
    {
      "cell_type": "markdown",
      "metadata": {
        "id": "x42zWMX6kY2R"
      },
      "source": [
        "# Logistic Regression"
      ]
    },
    {
      "cell_type": "code",
      "execution_count": null,
      "metadata": {
        "id": "-_H37yDDtGuh"
      },
      "outputs": [],
      "source": [
        "def Logistic_Regression(w, b, x, y, l, iters):\n",
        "    n = x.shape[0]\n",
        "    for i in range(iters):\n",
        "        z = np.dot(x, w.T) + b\n",
        "        phiz = sigmoid(z)\n",
        "        cost = calculate_cost(y, phiz)\n",
        "        dw = np.dot((phiz - y).T, x) / n\n",
        "        db = np.mean(np.sum(phiz - y))\n",
        "        w = w.T - l * dw\n",
        "        b = b - l * db\n",
        "    return w, b"
      ]
    },
    {
      "cell_type": "markdown",
      "metadata": {
        "id": "LmKTmYijkmGr"
      },
      "source": [
        "# calculate accuracy"
      ]
    },
    {
      "cell_type": "code",
      "execution_count": null,
      "metadata": {
        "id": "T2vLyn35kkpU"
      },
      "outputs": [],
      "source": [
        "def get_accuracy(w, b, x, y):\n",
        "    y_pred = np.dot(x, w) + b\n",
        "    y_pred = sigmoid(y_pred)\n",
        "    y_pred = np.round(y_pred)\n",
        "    ret = np.sum(y_pred == y) / int(y.size)\n",
        "    return ret"
      ]
    },
    {
      "cell_type": "markdown",
      "metadata": {
        "id": "QLXOLuFej-kR"
      },
      "source": [
        "# cross validation"
      ]
    },
    {
      "cell_type": "code",
      "execution_count": null,
      "metadata": {
        "id": "rg9-4POTB04i"
      },
      "outputs": [],
      "source": [
        "def cross_validation(w, b, x, y, k, l, iters):\n",
        "    n = x.shape[0]\n",
        "    fold_size = int(n / k)\n",
        "    acc = []\n",
        "    for i in (l):\n",
        "        for f in range(k):\n",
        "            st = f * k\n",
        "            en = st + fold_size\n",
        "            test_idx = range(st, en)\n",
        "            cannot = set(test_idx)\n",
        "            train_idx = [j for j in range(n) if j not in cannot]\n",
        "            cur_x_train = x[train_idx]\n",
        "            cur_y_train = y[train_idx]\n",
        "            cur_x_test = x[test_idx]\n",
        "            cur_y_test = y[test_idx]\n",
        "            nw_w, nw_b = Logistic_Regression(w, b, cur_x_train, cur_y_train, i, iters)\n",
        "            # print(nw_w , nw_b)\n",
        "            cur_acc = get_accuracy(nw_w, nw_b, cur_x_test, cur_y_test)\n",
        "            acc.append(cur_acc)\n",
        "            print(f\"Fold {f + 1}, eta = {i : .3f} , validation accuracy = {cur_acc * 100: .3f} %\")\n",
        "        print('-------------------------------------------------------------')\n",
        "    return np.array(acc)"
      ]
    },
    {
      "cell_type": "markdown",
      "metadata": {
        "id": "3cFWutP4j7Mk"
      },
      "source": [
        "# Calculating different accuracies with different learning rates"
      ]
    },
    {
      "cell_type": "code",
      "execution_count": null,
      "metadata": {
        "colab": {
          "base_uri": "https://localhost:8080/"
        },
        "id": "N-LD2fWeDCyg",
        "outputId": "e42b07fd-9bc4-4172-bfcf-88cf5ca59ede"
      },
      "outputs": [
        {
          "output_type": "stream",
          "name": "stderr",
          "text": [
            "<ipython-input-401-6558b39a7e63>:2: RuntimeWarning: divide by zero encountered in log\n",
            "  return np.mean((-y * np.log(y_pred)) - ((1 - y) * np.log(1 - y_pred)))\n",
            "<ipython-input-401-6558b39a7e63>:2: RuntimeWarning: invalid value encountered in multiply\n",
            "  return np.mean((-y * np.log(y_pred)) - ((1 - y) * np.log(1 - y_pred)))\n"
          ]
        },
        {
          "output_type": "stream",
          "name": "stdout",
          "text": [
            "Fold 1, eta =  0.100 , validation accuracy =  99.684 %\n",
            "Fold 2, eta =  0.100 , validation accuracy =  99.684 %\n",
            "Fold 3, eta =  0.100 , validation accuracy =  99.684 %\n",
            "Fold 4, eta =  0.100 , validation accuracy =  99.684 %\n",
            "Fold 5, eta =  0.100 , validation accuracy =  99.684 %\n",
            "Fold 6, eta =  0.100 , validation accuracy =  99.684 %\n",
            "Fold 7, eta =  0.100 , validation accuracy =  99.684 %\n",
            "Fold 8, eta =  0.100 , validation accuracy =  99.763 %\n",
            "Fold 9, eta =  0.100 , validation accuracy =  99.763 %\n",
            "Fold 10, eta =  0.100 , validation accuracy =  99.684 %\n",
            "-------------------------------------------------------------\n",
            "Fold 1, eta =  0.010 , validation accuracy =  98.578 %\n",
            "Fold 2, eta =  0.010 , validation accuracy =  98.578 %\n",
            "Fold 3, eta =  0.010 , validation accuracy =  98.578 %\n",
            "Fold 4, eta =  0.010 , validation accuracy =  98.578 %\n",
            "Fold 5, eta =  0.010 , validation accuracy =  98.578 %\n",
            "Fold 6, eta =  0.010 , validation accuracy =  98.578 %\n",
            "Fold 7, eta =  0.010 , validation accuracy =  98.657 %\n",
            "Fold 8, eta =  0.010 , validation accuracy =  98.657 %\n",
            "Fold 9, eta =  0.010 , validation accuracy =  98.657 %\n",
            "Fold 10, eta =  0.010 , validation accuracy =  98.657 %\n",
            "-------------------------------------------------------------\n"
          ]
        },
        {
          "output_type": "stream",
          "name": "stderr",
          "text": [
            "<ipython-input-400-8bcf26f77765>:2: RuntimeWarning: overflow encountered in exp\n",
            "  return (1 / (1 + (np.exp(-z))))\n"
          ]
        },
        {
          "output_type": "stream",
          "name": "stdout",
          "text": [
            "Fold 1, eta =  0.200 , validation accuracy =  99.605 %\n",
            "Fold 2, eta =  0.200 , validation accuracy =  99.605 %\n",
            "Fold 3, eta =  0.200 , validation accuracy =  99.605 %\n",
            "Fold 4, eta =  0.200 , validation accuracy =  99.605 %\n",
            "Fold 5, eta =  0.200 , validation accuracy =  99.605 %\n",
            "Fold 6, eta =  0.200 , validation accuracy =  99.605 %\n",
            "Fold 7, eta =  0.200 , validation accuracy =  99.763 %\n",
            "Fold 8, eta =  0.200 , validation accuracy =  99.684 %\n",
            "Fold 9, eta =  0.200 , validation accuracy =  99.684 %\n",
            "Fold 10, eta =  0.200 , validation accuracy =  99.684 %\n",
            "-------------------------------------------------------------\n",
            "Fold 1, eta =  0.300 , validation accuracy =  99.605 %\n",
            "Fold 2, eta =  0.300 , validation accuracy =  99.605 %\n",
            "Fold 3, eta =  0.300 , validation accuracy =  99.605 %\n",
            "Fold 4, eta =  0.300 , validation accuracy =  99.605 %\n",
            "Fold 5, eta =  0.300 , validation accuracy =  99.605 %\n",
            "Fold 6, eta =  0.300 , validation accuracy =  99.605 %\n",
            "Fold 7, eta =  0.300 , validation accuracy =  99.684 %\n",
            "Fold 8, eta =  0.300 , validation accuracy =  99.684 %\n",
            "Fold 9, eta =  0.300 , validation accuracy =  99.684 %\n",
            "Fold 10, eta =  0.300 , validation accuracy =  99.684 %\n",
            "-------------------------------------------------------------\n",
            "Learning rate = 0.1 average accuracy = 99.69984202211691\n",
            "Learning rate = 0.01 average accuracy = 98.60979462875198\n",
            "Learning rate = 0.2 average accuracy = 99.64454976303317\n",
            "Learning rate = 0.3 average accuracy = 99.63665086887836\n"
          ]
        }
      ],
      "source": [
        "random.seed(1)\n",
        "init_w = np.random.randn(x_train.shape[1])\n",
        "init_b = 0\n",
        "learning_rate = [0.1, 0.01, 0.2, 0.3]\n",
        "fold = 10\n",
        "iters = 1000\n",
        "acc_per_fold = cross_validation(init_w, init_b, x_train, y_train, fold, learning_rate, iters)\n",
        "acc_per_fold = acc_per_fold.reshape(-1, fold)\n",
        "for i, l in enumerate(learning_rate):\n",
        "    print('Learning rate =', l, 'average accuracy =', 100 * np.mean(acc_per_fold[i]))"
      ]
    },
    {
      "cell_type": "markdown",
      "source": [
        "# Choose 0.1 learning rate (best)"
      ],
      "metadata": {
        "id": "y1k6gXubBKQ6"
      }
    },
    {
      "cell_type": "code",
      "source": [
        "best_learning_rate = 0.1"
      ],
      "metadata": {
        "id": "saSifuMrBQ0A"
      },
      "execution_count": null,
      "outputs": []
    },
    {
      "cell_type": "markdown",
      "source": [
        "# building the model with 0.1 learning rate"
      ],
      "metadata": {
        "id": "-5g1xqg2BkUb"
      }
    },
    {
      "cell_type": "code",
      "execution_count": null,
      "metadata": {
        "colab": {
          "base_uri": "https://localhost:8080/"
        },
        "id": "bSRNWSQspL-W",
        "outputId": "69dfc3da-2392-4897-d484-4c10a4848e0d"
      },
      "outputs": [
        {
          "output_type": "stream",
          "name": "stderr",
          "text": [
            "<ipython-input-401-6558b39a7e63>:2: RuntimeWarning: divide by zero encountered in log\n",
            "  return np.mean((-y * np.log(y_pred)) - ((1 - y) * np.log(1 - y_pred)))\n",
            "<ipython-input-401-6558b39a7e63>:2: RuntimeWarning: invalid value encountered in multiply\n",
            "  return np.mean((-y * np.log(y_pred)) - ((1 - y) * np.log(1 - y_pred)))\n"
          ]
        },
        {
          "output_type": "stream",
          "name": "stdout",
          "text": [
            "final_accuracy = 99.81087470449172 %\n"
          ]
        }
      ],
      "source": [
        "init_w = np.random.randn(x_train.shape[1])\n",
        "init_b = 0\n",
        "final_w, final_b = Logistic_Regression(init_w, init_b, x_train, y_train, best_learning_rate, 1000)\n",
        "final_accuracy = get_accuracy(final_w, final_b, x_test, y_test)\n",
        "print('final_accuracy =', 100 * final_accuracy, '%')"
      ]
    }
  ],
  "metadata": {
    "colab": {
      "provenance": []
    },
    "gpuClass": "standard",
    "kernelspec": {
      "display_name": "Python 3",
      "name": "python3"
    },
    "language_info": {
      "name": "python"
    }
  },
  "nbformat": 4,
  "nbformat_minor": 0
}