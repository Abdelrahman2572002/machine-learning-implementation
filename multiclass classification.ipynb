{
  "nbformat": 4,
  "nbformat_minor": 0,
  "metadata": {
    "colab": {
      "provenance": []
    },
    "kernelspec": {
      "name": "python3",
      "display_name": "Python 3"
    },
    "language_info": {
      "name": "python"
    }
  },
  "cells": [
    {
      "cell_type": "code",
      "execution_count": 1,
      "metadata": {
        "id": "d5cxhUkvNX4F"
      },
      "outputs": [],
      "source": [
        "import numpy as np\n",
        "import pandas as pd\n",
        "import matplotlib.pyplot as plt\n",
        "from random import randrange\n",
        "from sklearn.preprocessing import StandardScaler\n",
        "from sklearn import preprocessing\n",
        "from sklearn.linear_model import LogisticRegression\n",
        "from sklearn.metrics import precision_recall_fscore_support\n",
        "from sklearn.metrics import accuracy_score\n",
        "from keras.datasets import mnist\n",
        "from sklearn.preprocessing import OneHotEncoder"
      ]
    },
    {
      "cell_type": "code",
      "source": [
        "(x_train,y_train),(x_test,y_test)=mnist.load_data()"
      ],
      "metadata": {
        "colab": {
          "base_uri": "https://localhost:8080/"
        },
        "id": "A6cv23OiNcXw",
        "outputId": "0202dff2-2967-4ef7-c907-3f232176ad41"
      },
      "execution_count": 2,
      "outputs": [
        {
          "output_type": "stream",
          "name": "stdout",
          "text": [
            "Downloading data from https://storage.googleapis.com/tensorflow/tf-keras-datasets/mnist.npz\n",
            "11490434/11490434 [==============================] - 0s 0us/step\n"
          ]
        }
      ]
    },
    {
      "cell_type": "code",
      "source": [
        "x_train=x_train.reshape(x_train.shape[0],-1)\n",
        "x_test=x_test.reshape(x_test.shape[0],-1)\n",
        "print(f'\\nAfter reshaping:\\nX_train:{x_train.shape}\\nX_test:{x_test.shape}')"
      ],
      "metadata": {
        "colab": {
          "base_uri": "https://localhost:8080/"
        },
        "id": "uL-NNhz9NhvV",
        "outputId": "6e182a72-451e-4ccd-f9f2-eb5034f43902"
      },
      "execution_count": 3,
      "outputs": [
        {
          "output_type": "stream",
          "name": "stdout",
          "text": [
            "\n",
            "After reshaping:\n",
            "X_train:(60000, 784)\n",
            "X_test:(10000, 784)\n"
          ]
        }
      ]
    },
    {
      "cell_type": "code",
      "source": [
        "# noramalizing the data\n",
        "x_train_std=x_train/255.0\n",
        "x_test_std=x_test/255.0"
      ],
      "metadata": {
        "id": "GaevC-gCNibT"
      },
      "execution_count": 4,
      "outputs": []
    },
    {
      "cell_type": "code",
      "source": [
        "y_train = y_train.reshape(-1, 1)\n",
        "y_test = y_test.reshape(-1, 1)\n",
        "y_train.shape"
      ],
      "metadata": {
        "colab": {
          "base_uri": "https://localhost:8080/"
        },
        "id": "9UuC3Q9wNlZ_",
        "outputId": "55a417e5-00dd-4c7a-c505-b94d3481a8a4"
      },
      "execution_count": 5,
      "outputs": [
        {
          "output_type": "execute_result",
          "data": {
            "text/plain": [
              "(60000, 1)"
            ]
          },
          "metadata": {},
          "execution_count": 5
        }
      ]
    },
    {
      "cell_type": "code",
      "source": [
        "ohe=preprocessing.OneHotEncoder()\n",
        "ohe.fit(y_train)\n",
        "transformed_ytrain=ohe.transform(y_train).toarray()\n",
        "ohe.fit(y_test)\n",
        "\n",
        "transformed_ytest=ohe.transform(y_test).toarray()"
      ],
      "metadata": {
        "id": "uVhO_kn_NpLu"
      },
      "execution_count": 6,
      "outputs": []
    },
    {
      "cell_type": "code",
      "source": [
        "transformed_ytrain"
      ],
      "metadata": {
        "colab": {
          "base_uri": "https://localhost:8080/"
        },
        "id": "mc1AXUatNrVs",
        "outputId": "8b52e64f-4f25-4db4-fd6f-140a4606938f"
      },
      "execution_count": 7,
      "outputs": [
        {
          "output_type": "execute_result",
          "data": {
            "text/plain": [
              "array([[0., 0., 0., ..., 0., 0., 0.],\n",
              "       [1., 0., 0., ..., 0., 0., 0.],\n",
              "       [0., 0., 0., ..., 0., 0., 0.],\n",
              "       ...,\n",
              "       [0., 0., 0., ..., 0., 0., 0.],\n",
              "       [0., 0., 0., ..., 0., 0., 0.],\n",
              "       [0., 0., 0., ..., 0., 1., 0.]])"
            ]
          },
          "metadata": {},
          "execution_count": 7
        }
      ]
    },
    {
      "cell_type": "code",
      "source": [
        "classes=dict()\n",
        "for i in range(len(np.unique(y_train))):\n",
        "  classes[i]=np.where(y_train==i)[0]\n",
        "print(classes)  \n",
        "for key in classes:\n",
        "  print(len(classes[key]))  "
      ],
      "metadata": {
        "colab": {
          "base_uri": "https://localhost:8080/"
        },
        "id": "do_uu130NtCF",
        "outputId": "2a44582c-9041-41ea-fdd6-63045d2f2aa3"
      },
      "execution_count": 8,
      "outputs": [
        {
          "output_type": "stream",
          "name": "stdout",
          "text": [
            "{0: array([    1,    21,    34, ..., 59952, 59972, 59987]), 1: array([    3,     6,     8, ..., 59979, 59984, 59994]), 2: array([    5,    16,    25, ..., 59983, 59985, 59991]), 3: array([    7,    10,    12, ..., 59978, 59980, 59996]), 4: array([    2,     9,    20, ..., 59943, 59951, 59975]), 5: array([    0,    11,    35, ..., 59968, 59993, 59997]), 6: array([   13,    18,    32, ..., 59982, 59986, 59998]), 7: array([   15,    29,    38, ..., 59963, 59977, 59988]), 8: array([   17,    31,    41, ..., 59989, 59995, 59999]), 9: array([    4,    19,    22, ..., 59973, 59990, 59992])}\n",
            "5923\n",
            "6742\n",
            "5958\n",
            "6131\n",
            "5842\n",
            "5421\n",
            "5918\n",
            "6265\n",
            "5851\n",
            "5949\n"
          ]
        }
      ]
    },
    {
      "cell_type": "code",
      "source": [
        "x_train_sample=[]\n",
        "y_train_sample=[]\n",
        "for key in classes:\n",
        "  length=round(len(classes[key])/10)\n",
        "  for i,index in enumerate(classes[key]):\n",
        "    if i>=length:\n",
        "      break\n",
        "    else:\n",
        "      x_train_sample.append(x_train_std[index])\n",
        "      y_train_sample.append(y_train[index])  "
      ],
      "metadata": {
        "id": "j7ed009aNusI"
      },
      "execution_count": 9,
      "outputs": []
    },
    {
      "cell_type": "code",
      "source": [
        "models = []\n",
        "for i in range(10):\n",
        "    \n",
        "    y_i = np.array([1 if label == i else 0 for label in y_train_sample])\n",
        "    lr = LogisticRegression(max_iter=1000)\n",
        "    lr.fit(x_train_sample, y_i)\n",
        "    models.append(lr)\n",
        "\n",
        "\n",
        "y_pred = []\n",
        "for i in range(len(x_test)):\n",
        "    scores = []\n",
        "    for j in range(10):\n",
        "        score = models[j].predict_proba(x_test[i:i+1])[0][1]\n",
        "        scores.append(score)\n",
        "    y_pred.append(np.argmax(scores))\n",
        "accuracy = accuracy_score(y_test, y_pred)\n",
        "print(f\"Accuracy: {accuracy}\")"
      ],
      "metadata": {
        "colab": {
          "base_uri": "https://localhost:8080/"
        },
        "id": "M-nm7LUUNwpl",
        "outputId": "ad489cc6-7159-47b7-b7a3-e8a6ac60c3eb"
      },
      "execution_count": 10,
      "outputs": [
        {
          "output_type": "stream",
          "name": "stdout",
          "text": [
            "Accuracy: 0.6404\n"
          ]
        }
      ]
    }
  ]
}